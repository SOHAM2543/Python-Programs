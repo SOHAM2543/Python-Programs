{
 "cells": [
  {
   "cell_type": "code",
   "execution_count": 1,
   "id": "1add4129-d90f-4663-bf67-9434dde7aa08",
   "metadata": {},
   "outputs": [
    {
     "name": "stdout",
     "output_type": "stream",
     "text": [
      "The sum of given two number is 80\n"
     ]
    }
   ],
   "source": [
    "#solution-1 (With pre-defines variables)\n",
    "num1 = 30\n",
    "num2 = 50\n",
    "sum = num1+num2\n",
    "print(\"The sum of given two number is\", sum)"
   ]
  },
  {
   "cell_type": "code",
   "execution_count": 6,
   "id": "f3907dea-6c6b-47aa-8161-6d6a67e71bfc",
   "metadata": {},
   "outputs": [
    {
     "name": "stdin",
     "output_type": "stream",
     "text": [
      "Enter a number here:  50\n",
      "Enter a Another number here:  40\n"
     ]
    },
    {
     "name": "stdout",
     "output_type": "stream",
     "text": [
      "The sum of provided two numbers is: 90.0\n"
     ]
    }
   ],
   "source": [
    "#Solution-2 (With user input)\n",
    "num1 = float(input(\"Enter a number here: \"))\n",
    "num2 = float(input(\"Enter a Another number here: \"))\n",
    "\n",
    "sum = num1 + num2\n",
    "\n",
    "print(\"The sum of provided two numbers is:\", sum)"
   ]
  },
  {
   "cell_type": "code",
   "execution_count": null,
   "id": "9c7cc07c-0d84-498f-824a-54591eb1ae78",
   "metadata": {},
   "outputs": [],
   "source": []
  }
 ],
 "metadata": {
  "kernelspec": {
   "display_name": "Python 3 (ipykernel)",
   "language": "python",
   "name": "python3"
  },
  "language_info": {
   "codemirror_mode": {
    "name": "ipython",
    "version": 3
   },
   "file_extension": ".py",
   "mimetype": "text/x-python",
   "name": "python",
   "nbconvert_exporter": "python",
   "pygments_lexer": "ipython3",
   "version": "3.11.4"
  }
 },
 "nbformat": 4,
 "nbformat_minor": 5
}
